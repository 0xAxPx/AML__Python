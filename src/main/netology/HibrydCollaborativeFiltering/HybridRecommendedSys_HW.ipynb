{
 "cells": [
  {
   "cell_type": "markdown",
   "metadata": {},
   "source": [
    "# Homework: \n",
    "    1) MovieLens dataset https://grouplens.org/datasets/movielens/1m/\n",
    "    2) Choose hybrid system\n",
    "    3) Write your own"
   ]
  },
  {
   "cell_type": "code",
   "execution_count": 2,
   "metadata": {},
   "outputs": [
    {
     "name": "stderr",
     "output_type": "stream",
     "text": [
      "c:\\users\\user\\appdata\\local\\programs\\python\\python37\\lib\\site-packages\\lightfm\\_lightfm_fast.py:9: UserWarning: LightFM was compiled without OpenMP support. Only a single thread will be used.\n",
      "  warnings.warn('LightFM was compiled without OpenMP support. '\n"
     ]
    }
   ],
   "source": [
    "import numpy as np\n",
    "from lightfm.datasets import fetch_movielens\n",
    "from lightfm import LightFM\n",
    "from lightfm.evaluation import precision_at_k\n",
    "from lightfm.evaluation import auc_score\n",
    "import matplotlib.pyplot as plt"
   ]
  },
  {
   "cell_type": "code",
   "execution_count": 3,
   "metadata": {},
   "outputs": [
    {
     "name": "stdout",
     "output_type": "stream",
     "text": [
      "The dataset has 943 users and 1682 items, with 9430 interactions in the test and 90570 interactions in the training set.\n"
     ]
    }
   ],
   "source": [
    "#Read data set MovieLens\n",
    "\n",
    "movielens = fetch_movielens(min_rating=0.5)\n",
    "\n",
    "train = movielens[\"train\"]\n",
    "test = movielens[\"test\"]\n",
    "\n",
    "print('The dataset has %s users and %s items, '\n",
    "      'with %s interactions in the test and %s interactions in the training set.'\n",
    "      % (train.shape[0], train.shape[1], test.getnnz(), train.getnnz()))"
   ]
  },
  {
   "cell_type": "code",
   "execution_count": 4,
   "metadata": {},
   "outputs": [],
   "source": [
    "#Compare BPR and WARP models AUC\n",
    "\n",
    "model_bpr = LightFM(learning_rate=0.05, learning_schedule=\"adagrad\", loss=\"bpr\")\n",
    "model_warp = LightFM(learning_rate=0.05, learning_schedule=\"adagrad\", loss=\"warp\")\n",
    "model_warp_kos = LightFM(learning_rate=0.05, learning_schedule=\"adagrad\", loss=\"warp-kos\")\n",
    "\n",
    "epochs = 70;\n",
    "\n",
    "bpr_auc = []\n",
    "warp_auc = []\n",
    "warp_kos_auc = []\n",
    "\n",
    "for i in range(epochs):\n",
    "    model_bpr.fit_partial(train, epochs=1)\n",
    "    bpr_auc.append(auc_score(model_bpr, test, train_interactions=train).mean())\n",
    "\n",
    "for i in range(epochs):\n",
    "    model_warp.fit_partial(train, epochs=1)\n",
    "    warp_auc.append(auc_score(model_warp, test, train_interactions=train).mean())\n",
    "\n",
    "for i in range(epochs):\n",
    "    model_warp_kos.fit_partial(train, epochs=1)\n",
    "    warp_kos_auc.append(auc_score(model_warp_kos, test, train_interactions=train).mean())\n"
   ]
  },
  {
   "cell_type": "code",
   "execution_count": 5,
   "metadata": {},
   "outputs": [
    {
     "data": {
      "image/png": "[encoded data removed]",
      "text/plain": [
       "<Figure size 432x288 with 1 Axes>"
      ]
     },
     "metadata": {
      "needs_background": "light"
     },
     "output_type": "display_data"
    }
   ],
   "source": [
    "#Plotting results BPR, WARP, WARP KOS AUC ROC\n",
    "x = np.arange(epochs)\n",
    "plt.plot(x, np.array(bpr_auc))\n",
    "plt.plot(x, np.array(warp_auc))\n",
    "plt.plot(x, np.array(warp_kos_auc))\n",
    "plt.legend(['BPR AUC', 'WARP AUC', 'WARP KOS AUC'], loc='upper right')\n",
    "plt.show()\n",
    "\n",
    "#Weighted Approximate-Rank Pairwise model is the best since it has higher AUC"
   ]
  },
  {
   "cell_type": "code",
   "execution_count": 6,
   "metadata": {},
   "outputs": [
    {
     "name": "stdout",
     "output_type": "stream",
     "text": [
      "[BPR] Precision: train 0.44, test 0.07.\n",
      "[BPR] AUC: train 0.93, test 0.87.\n"
     ]
    }
   ],
   "source": [
    "#BPR precision\n",
    "model_bpr.fit_partial(train, epochs=70)\n",
    "\n",
    "train_precision = precision_at_k(model_bpr, train, k=70).mean()\n",
    "test_precision = precision_at_k(model_bpr, test, k=70, train_interactions=train).mean()\n",
    "train_auc = auc_score(model_bpr, train).mean()\n",
    "test_auc = auc_score(model_bpr, test).mean()\n",
    "\n",
    "print('[BPR] Precision: train %.2f, test %.2f.' % (train_precision, test_precision))\n",
    "print('[BPR] AUC: train %.2f, test %.2f.' % (train_auc, test_auc))\n"
   ]
  },
  {
   "cell_type": "code",
   "execution_count": 7,
   "metadata": {},
   "outputs": [
    {
     "name": "stdout",
     "output_type": "stream",
     "text": [
      "[WARP] Precision: train 0.49, test 0.09.\n",
      "[WARP] AUC: train 0.96, test 0.91.\n"
     ]
    }
   ],
   "source": [
    "#WARP precision\n",
    "model_warp.fit_partial(train, epochs=70)\n",
    "\n",
    "train_precision = precision_at_k(model_warp, train, k=70).mean()\n",
    "test_precision = precision_at_k(model_warp, test, k=70, train_interactions=train).mean()\n",
    "train_auc = auc_score(model_warp, train).mean()\n",
    "test_auc = auc_score(model_warp, test).mean()\n",
    "\n",
    "print('[WARP] Precision: train %.2f, test %.2f.' % (train_precision, test_precision))\n",
    "print('[WARP] AUC: train %.2f, test %.2f.' % (train_auc, test_auc))\n"
   ]
  },
  {
   "cell_type": "code",
   "execution_count": 8,
   "metadata": {},
   "outputs": [
    {
     "name": "stdout",
     "output_type": "stream",
     "text": [
      "[WARP KOS] Precision: train 0.49, test 0.09.\n",
      "[WARP KOS] AUC: train 0.93, test 0.89.\n"
     ]
    }
   ],
   "source": [
    "#WARP KOS precision\n",
    "model_warp_kos.fit_partial(train, epochs=70)\n",
    "\n",
    "train_precision = precision_at_k(model_warp_kos, train, k=70).mean()\n",
    "test_precision = precision_at_k(model_warp_kos, test, k=70, train_interactions=train).mean()\n",
    "train_auc = auc_score(model_warp_kos, train).mean()\n",
    "test_auc = auc_score(model_warp_kos, test).mean()\n",
    "\n",
    "print('[WARP KOS] Precision: train %.2f, test %.2f.' % (train_precision, test_precision))\n",
    "print('[WARP KOS] AUC: train %.2f, test %.2f.' % (train_auc, test_auc))\n"
   ]
  },
  {
   "cell_type": "code",
   "execution_count": 9,
   "metadata": {},
   "outputs": [],
   "source": [
    "def sample_recommendation(model, data, user_ids):\n",
    "    n_users, n_items = data['train'].shape\n",
    "    for user_id in user_ids:\n",
    "        known_positives = data['item_labels'][data['train'].tocsr()                                    \n",
    "                          [user_id].indices]\n",
    "        \n",
    "        scores = model.predict(user_id, np.arange(n_items))\n",
    "\n",
    "        top_items = data['item_labels'][np.argsort(-scores)]\n",
    "\n",
    "        print(\"User %s\" % user_id)\n",
    "        print(\"     Known positives:\")\n",
    "        \n",
    "        for x in known_positives[:3]:\n",
    "            print(\"        %s\" % x)\n",
    "        \n",
    "        print(\"     Recommended:\")\n",
    "        \n",
    "        for x in top_items[:3]:\n",
    "            print(\"        %s\" % x)"
   ]
  },
  {
   "cell_type": "code",
   "execution_count": 10,
   "metadata": {},
   "outputs": [
    {
     "name": "stdout",
     "output_type": "stream",
     "text": [
      "User 10\n",
      "     Known positives:\n",
      "        Babe (1995)\n",
      "        Dead Man Walking (1995)\n",
      "        Seven (Se7en) (1995)\n",
      "     Recommended:\n",
      "        Schindler's List (1993)\n",
      "        When Harry Met Sally... (1989)\n",
      "        Apollo 13 (1995)\n",
      "User 11\n",
      "     Known positives:\n",
      "        Get Shorty (1995)\n",
      "        Mr. Holland's Opus (1995)\n",
      "        Apollo 13 (1995)\n",
      "     Recommended:\n",
      "        Forrest Gump (1994)\n",
      "        Schindler's List (1993)\n",
      "        Shawshank Redemption, The (1994)\n",
      "User 12\n",
      "     Known positives:\n",
      "        Toy Story (1995)\n",
      "        GoldenEye (1995)\n",
      "        Get Shorty (1995)\n",
      "     Recommended:\n",
      "        Full Monty, The (1997)\n",
      "        Back to the Future (1985)\n",
      "        Sting, The (1973)\n",
      "User 414\n",
      "     Known positives:\n",
      "        Mr. Smith Goes to Washington (1939)\n",
      "        Raiders of the Lost Ark (1981)\n",
      "        Psycho (1960)\n",
      "     Recommended:\n",
      "        Magnificent Seven, The (1954)\n",
      "        Full Monty, The (1997)\n",
      "        Liar Liar (1997)\n",
      "User 415\n",
      "     Known positives:\n",
      "        Toy Story (1995)\n",
      "        GoldenEye (1995)\n",
      "        Get Shorty (1995)\n",
      "     Recommended:\n",
      "        Sleepless in Seattle (1993)\n",
      "        Back to the Future (1985)\n",
      "        Jurassic Park (1993)\n",
      "User 416\n",
      "     Known positives:\n",
      "        Toy Story (1995)\n",
      "        Get Shorty (1995)\n",
      "        Copycat (1995)\n",
      "     Recommended:\n",
      "        Star Wars (1977)\n",
      "        Return of the Jedi (1983)\n",
      "        Twelve Monkeys (1995)\n"
     ]
    }
   ],
   "source": [
    "#Recomendation with BPR model\n",
    "sample_recommendation(model_bpr, movielens, [10, 11, 12, 414, 415, 416])"
   ]
  },
  {
   "cell_type": "code",
   "execution_count": 11,
   "metadata": {},
   "outputs": [
    {
     "name": "stdout",
     "output_type": "stream",
     "text": [
      "User 10\n",
      "     Known positives:\n",
      "        Babe (1995)\n",
      "        Dead Man Walking (1995)\n",
      "        Seven (Se7en) (1995)\n",
      "     Recommended:\n",
      "        Four Weddings and a Funeral (1994)\n",
      "        Piano, The (1993)\n",
      "        Ghost (1990)\n",
      "User 11\n",
      "     Known positives:\n",
      "        Get Shorty (1995)\n",
      "        Mr. Holland's Opus (1995)\n",
      "        Apollo 13 (1995)\n",
      "     Recommended:\n",
      "        Forrest Gump (1994)\n",
      "        Raiders of the Lost Ark (1981)\n",
      "        Star Wars (1977)\n",
      "User 12\n",
      "     Known positives:\n",
      "        Toy Story (1995)\n",
      "        GoldenEye (1995)\n",
      "        Get Shorty (1995)\n",
      "     Recommended:\n",
      "        Air Force One (1997)\n",
      "        Pulp Fiction (1994)\n",
      "        Contact (1997)\n",
      "User 414\n",
      "     Known positives:\n",
      "        Mr. Smith Goes to Washington (1939)\n",
      "        Raiders of the Lost Ark (1981)\n",
      "        Psycho (1960)\n",
      "     Recommended:\n",
      "        Air Force One (1997)\n",
      "        Star Wars (1977)\n",
      "        Liar Liar (1997)\n",
      "User 415\n",
      "     Known positives:\n",
      "        Toy Story (1995)\n",
      "        GoldenEye (1995)\n",
      "        Get Shorty (1995)\n",
      "     Recommended:\n",
      "        Apt Pupil (1998)\n",
      "        Truth About Cats & Dogs, The (1996)\n",
      "        Pulp Fiction (1994)\n",
      "User 416\n",
      "     Known positives:\n",
      "        Toy Story (1995)\n",
      "        Get Shorty (1995)\n",
      "        Copycat (1995)\n",
      "     Recommended:\n",
      "        Return of the Jedi (1983)\n",
      "        Star Wars (1977)\n",
      "        Pulp Fiction (1994)\n"
     ]
    }
   ],
   "source": [
    "#Recommendation with WARP model\n",
    "sample_recommendation(model_warp, movielens, [10,11,12,414,415,416])"
   ]
  },
  {
   "cell_type": "code",
   "execution_count": 12,
   "metadata": {},
   "outputs": [
    {
     "name": "stdout",
     "output_type": "stream",
     "text": [
      "User 10\n",
      "     Known positives:\n",
      "        Babe (1995)\n",
      "        Dead Man Walking (1995)\n",
      "        Seven (Se7en) (1995)\n",
      "     Recommended:\n",
      "        Grease (1978)\n",
      "        Four Weddings and a Funeral (1994)\n",
      "        Schindler's List (1993)\n",
      "User 11\n",
      "     Known positives:\n",
      "        Get Shorty (1995)\n",
      "        Mr. Holland's Opus (1995)\n",
      "        Apollo 13 (1995)\n",
      "     Recommended:\n",
      "        Forrest Gump (1994)\n",
      "        Jerry Maguire (1996)\n",
      "        Silence of the Lambs, The (1991)\n",
      "User 12\n",
      "     Known positives:\n",
      "        Toy Story (1995)\n",
      "        GoldenEye (1995)\n",
      "        Get Shorty (1995)\n",
      "     Recommended:\n",
      "        In & Out (1997)\n",
      "        As Good As It Gets (1997)\n",
      "        Bean (1997)\n",
      "User 414\n",
      "     Known positives:\n",
      "        Mr. Smith Goes to Washington (1939)\n",
      "        Raiders of the Lost Ark (1981)\n",
      "        Psycho (1960)\n",
      "     Recommended:\n",
      "        Air Force One (1997)\n",
      "        English Patient, The (1996)\n",
      "        Liar Liar (1997)\n",
      "User 415\n",
      "     Known positives:\n",
      "        Toy Story (1995)\n",
      "        GoldenEye (1995)\n",
      "        Get Shorty (1995)\n",
      "     Recommended:\n",
      "        Titanic (1997)\n",
      "        Truth About Cats & Dogs, The (1996)\n",
      "        While You Were Sleeping (1995)\n",
      "User 416\n",
      "     Known positives:\n",
      "        Toy Story (1995)\n",
      "        Get Shorty (1995)\n",
      "        Copycat (1995)\n",
      "     Recommended:\n",
      "        Army of Darkness (1993)\n",
      "        Monty Python and the Holy Grail (1974)\n",
      "        Star Wars (1977)\n"
     ]
    }
   ],
   "source": [
    "#Recommendation with WARP KOS model\n",
    "sample_recommendation(model_warp_kos, movielens, [10,11,12,414,415,416])"
   ]
  }
 ],
 "metadata": {
  "kernelspec": {
   "display_name": "Python 3",
   "language": "python",
   "name": "python3"
  },
  "language_info": {
   "codemirror_mode": {
    "name": "ipython",
    "version": 3
   },
   "file_extension": ".py",
   "mimetype": "text/x-python",
   "name": "python",
   "nbconvert_exporter": "python",
   "pygments_lexer": "ipython3",
   "version": "3.7.0"
  }
 },
 "nbformat": 4,
 "nbformat_minor": 4
}
