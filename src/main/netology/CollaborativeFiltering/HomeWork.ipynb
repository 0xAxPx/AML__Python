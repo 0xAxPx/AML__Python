{
 "cells": [
  {
   "cell_type": "markdown",
   "metadata": {},
   "source": [
    "# Homework:\n",
    "    1) use MovieLens 1m data sets https://grouplens.org/datasets/movielens/1m/\n",
    "    2) use any models from SURPRISE \n",
    "    3) get RMSE = 0.87 on test data set"
   ]
  },
  {
   "cell_type": "code",
   "execution_count": 1,
   "metadata": {},
   "outputs": [
    {
     "name": "stderr",
     "output_type": "stream",
     "text": [
      "c:\\users\\user\\appdata\\local\\programs\\python\\python37\\lib\\importlib\\_bootstrap.py:219: RuntimeWarning: numpy.ufunc size changed, may indicate binary incompatibility. Expected 192 from C header, got 216 from PyObject\n",
      "  return f(*args, **kwds)\n",
      "c:\\users\\user\\appdata\\local\\programs\\python\\python37\\lib\\importlib\\_bootstrap.py:219: RuntimeWarning: numpy.ufunc size changed, may indicate binary incompatibility. Expected 192 from C header, got 216 from PyObject\n",
      "  return f(*args, **kwds)\n",
      "c:\\users\\user\\appdata\\local\\programs\\python\\python37\\lib\\importlib\\_bootstrap.py:219: RuntimeWarning: numpy.ufunc size changed, may indicate binary incompatibility. Expected 192 from C header, got 216 from PyObject\n",
      "  return f(*args, **kwds)\n",
      "c:\\users\\user\\appdata\\local\\programs\\python\\python37\\lib\\importlib\\_bootstrap.py:219: RuntimeWarning: numpy.ufunc size changed, may indicate binary incompatibility. Expected 192 from C header, got 216 from PyObject\n",
      "  return f(*args, **kwds)\n"
     ]
    }
   ],
   "source": [
    "import numpy as np\n",
    "from surprise import Dataset\n",
    "from surprise import accuracy\n",
    "from surprise import Reader\n",
    "from surprise.model_selection import train_test_split\n",
    "from surprise import KNNBasic, SVD, BaselineOnly\n",
    "from surprise.model_selection import cross_validate\n",
    "from sklearn.preprocessing import LabelEncoder\n",
    "import pandas as pd"
   ]
  },
  {
   "cell_type": "code",
   "execution_count": 2,
   "metadata": {},
   "outputs": [],
   "source": [
    "#Read data set MovieLens\n",
    "\n",
    "movies = pd.read_csv(\"movies.csv\")\n",
    "ratings = pd.read_csv(\"ratings.csv\")"
   ]
  },
  {
   "cell_type": "code",
   "execution_count": 3,
   "metadata": {},
   "outputs": [],
   "source": [
    "movies_with_ratings = movies.join(ratings.set_index('movieId'), on='movieId').reset_index(drop=True)\n",
    "\n",
    "movies_with_ratings.dropna(inplace=True)\n",
    "\n",
    "movies_with_ratings.drop('genres', axis=1, inplace=True)\n",
    "\n",
    "label = LabelEncoder()\n",
    "\n",
    "label.fit(movies_with_ratings.title.drop_duplicates())\n",
    "label.fit(movies_with_ratings.title)\n",
    "\n",
    "movies_with_ratings.title = label.transform(movies_with_ratings.title)"
   ]
  },
  {
   "cell_type": "code",
   "execution_count": 4,
   "metadata": {},
   "outputs": [],
   "source": [
    "#movies_with_ratings = StandardScaler().fit_transform(movies_with_ratings)"
   ]
  },
  {
   "cell_type": "code",
   "execution_count": 4,
   "metadata": {},
   "outputs": [
    {
     "data": {
      "text/html": [
       "<div>\n",
       "<style scoped>\n",
       "    .dataframe tbody tr th:only-of-type {\n",
       "        vertical-align: middle;\n",
       "    }\n",
       "\n",
       "    .dataframe tbody tr th {\n",
       "        vertical-align: top;\n",
       "    }\n",
       "\n",
       "    .dataframe thead th {\n",
       "        text-align: right;\n",
       "    }\n",
       "</style>\n",
       "<table border=\"1\" class=\"dataframe\">\n",
       "  <thead>\n",
       "    <tr style=\"text-align: right;\">\n",
       "      <th></th>\n",
       "      <th>movieId</th>\n",
       "      <th>title</th>\n",
       "      <th>userId</th>\n",
       "      <th>rating</th>\n",
       "      <th>timestamp</th>\n",
       "    </tr>\n",
       "  </thead>\n",
       "  <tbody>\n",
       "    <tr>\n",
       "      <th>count</th>\n",
       "      <td>1.048575e+06</td>\n",
       "      <td>1.048575e+06</td>\n",
       "      <td>1.048575e+06</td>\n",
       "      <td>1.048575e+06</td>\n",
       "      <td>1.048575e+06</td>\n",
       "    </tr>\n",
       "    <tr>\n",
       "      <th>mean</th>\n",
       "      <td>8.648988e+03</td>\n",
       "      <td>6.933018e+03</td>\n",
       "      <td>3.527086e+03</td>\n",
       "      <td>3.529272e+00</td>\n",
       "      <td>1.096036e+09</td>\n",
       "    </tr>\n",
       "    <tr>\n",
       "      <th>std</th>\n",
       "      <td>1.910014e+04</td>\n",
       "      <td>4.070101e+03</td>\n",
       "      <td>2.018424e+03</td>\n",
       "      <td>1.051919e+00</td>\n",
       "      <td>1.594899e+08</td>\n",
       "    </tr>\n",
       "    <tr>\n",
       "      <th>min</th>\n",
       "      <td>1.000000e+00</td>\n",
       "      <td>0.000000e+00</td>\n",
       "      <td>1.000000e+00</td>\n",
       "      <td>5.000000e-01</td>\n",
       "      <td>8.254999e+08</td>\n",
       "    </tr>\n",
       "    <tr>\n",
       "      <th>25%</th>\n",
       "      <td>9.030000e+02</td>\n",
       "      <td>3.431000e+03</td>\n",
       "      <td>1.813000e+03</td>\n",
       "      <td>3.000000e+00</td>\n",
       "      <td>9.658382e+08</td>\n",
       "    </tr>\n",
       "    <tr>\n",
       "      <th>50%</th>\n",
       "      <td>2.143000e+03</td>\n",
       "      <td>6.975000e+03</td>\n",
       "      <td>3.540000e+03</td>\n",
       "      <td>4.000000e+00</td>\n",
       "      <td>1.099263e+09</td>\n",
       "    </tr>\n",
       "    <tr>\n",
       "      <th>75%</th>\n",
       "      <td>4.641000e+03</td>\n",
       "      <td>1.058000e+04</td>\n",
       "      <td>5.233000e+03</td>\n",
       "      <td>4.000000e+00</td>\n",
       "      <td>1.217407e+09</td>\n",
       "    </tr>\n",
       "    <tr>\n",
       "      <th>max</th>\n",
       "      <td>1.306420e+05</td>\n",
       "      <td>1.402000e+04</td>\n",
       "      <td>7.120000e+03</td>\n",
       "      <td>5.000000e+00</td>\n",
       "      <td>1.427764e+09</td>\n",
       "    </tr>\n",
       "  </tbody>\n",
       "</table>\n",
       "</div>"
      ],
      "text/plain": [
       "            movieId         title        userId        rating     timestamp\n",
       "count  1.048575e+06  1.048575e+06  1.048575e+06  1.048575e+06  1.048575e+06\n",
       "mean   8.648988e+03  6.933018e+03  3.527086e+03  3.529272e+00  1.096036e+09\n",
       "std    1.910014e+04  4.070101e+03  2.018424e+03  1.051919e+00  1.594899e+08\n",
       "min    1.000000e+00  0.000000e+00  1.000000e+00  5.000000e-01  8.254999e+08\n",
       "25%    9.030000e+02  3.431000e+03  1.813000e+03  3.000000e+00  9.658382e+08\n",
       "50%    2.143000e+03  6.975000e+03  3.540000e+03  4.000000e+00  1.099263e+09\n",
       "75%    4.641000e+03  1.058000e+04  5.233000e+03  4.000000e+00  1.217407e+09\n",
       "max    1.306420e+05  1.402000e+04  7.120000e+03  5.000000e+00  1.427764e+09"
      ]
     },
     "execution_count": 4,
     "metadata": {},
     "output_type": "execute_result"
    }
   ],
   "source": [
    "movies_with_ratings.describe()"
   ]
  },
  {
   "cell_type": "code",
   "execution_count": 5,
   "metadata": {},
   "outputs": [
    {
     "data": {
      "text/plain": [
       "5.0"
      ]
     },
     "execution_count": 5,
     "metadata": {},
     "output_type": "execute_result"
    }
   ],
   "source": [
    "#min rating == 0.5\n",
    "movies_with_ratings['rating'].min()\n",
    "#max rating == 0.5\n",
    "movies_with_ratings['rating'].max()"
   ]
  },
  {
   "cell_type": "code",
   "execution_count": 6,
   "metadata": {},
   "outputs": [],
   "source": [
    "dataset = pd.DataFrame({\n",
    "    'uid': movies_with_ratings.userId,\n",
    "    'iid': movies_with_ratings.title,\n",
    "    'rating': movies_with_ratings.rating\n",
    "})"
   ]
  },
  {
   "cell_type": "code",
   "execution_count": 7,
   "metadata": {},
   "outputs": [],
   "source": [
    "reader = Reader(rating_scale=(0.5, 5.0))\n",
    "data = Dataset.load_from_df(dataset, reader)"
   ]
  },
  {
   "cell_type": "code",
   "execution_count": 8,
   "metadata": {},
   "outputs": [],
   "source": [
    "# Train and Test data\n",
    "trainset, testset = train_test_split(data, test_size=.15)"
   ]
  },
  {
   "cell_type": "code",
   "execution_count": 11,
   "metadata": {},
   "outputs": [],
   "source": [
    "#def for user and item collaborative filtering\n",
    "\n",
    "\n",
    "def knnBasicCrossvalidation():\n",
    "        algo = KNNBasic(random_state=33, sim_options={'name': \"pearson_baseline\", 'user_based': False})\n",
    "        cross_validate(algo, data, measures=['RMSE', 'MAE'], cv=5, verbose=True)\n",
    "\n",
    "def svdCrossvalidation():\n",
    "        algo = SVD()\n",
    "        cross_validate(algo, data, measures=['RMSE', 'MAE'], cv=5, verbose=True)"
   ]
  },
  {
   "cell_type": "code",
   "execution_count": 12,
   "metadata": {},
   "outputs": [
    {
     "name": "stdout",
     "output_type": "stream",
     "text": [
      "Estimating biases using als...\n",
      "Computing the pearson_baseline similarity matrix...\n",
      "Done computing similarity matrix.\n",
      "Estimating biases using als...\n",
      "Computing the pearson_baseline similarity matrix...\n",
      "Done computing similarity matrix.\n",
      "Estimating biases using als...\n",
      "Computing the pearson_baseline similarity matrix...\n",
      "Done computing similarity matrix.\n",
      "Estimating biases using als...\n",
      "Computing the pearson_baseline similarity matrix...\n",
      "Done computing similarity matrix.\n",
      "Estimating biases using als...\n",
      "Computing the pearson_baseline similarity matrix...\n",
      "Done computing similarity matrix.\n",
      "Evaluating RMSE, MAE of algorithm KNNBasic on 5 split(s).\n",
      "\n",
      "                  Fold 1  Fold 2  Fold 3  Fold 4  Fold 5  Mean    Std     \n",
      "RMSE (testset)    0.8768  0.8789  0.8734  0.8802  0.8782  0.8775  0.0023  \n",
      "MAE (testset)     0.6646  0.6673  0.6642  0.6679  0.6672  0.6662  0.0015  \n",
      "Fit time          118.20  259.04  134.05  126.04  140.44  155.55  52.28   \n",
      "Test time         134.03  224.55  213.43  211.20  257.86  208.22  40.67   \n",
      "Wall time: 30min 33s\n"
     ]
    }
   ],
   "source": [
    "%%time\n",
    "knnBasicCrossvalidation()"
   ]
  },
  {
   "cell_type": "raw",
   "metadata": {},
   "source": [
    "\n",
    "                  Fold 1  Fold 2  Fold 3  Fold 4  Fold 5  Mean    Std     \n",
    "RMSE (testset)    0.8768  0.8789  0.8734  0.8802  0.8782  0.8775  0.0023  \n",
    "MAE (testset)     0.6646  0.6673  0.6642  0.6679  0.6672  0.6662  0.0015  \n",
    "Fit time          118.20  259.04  134.05  126.04  140.44  155.55  52.28   \n",
    "Test time         134.03  224.55  213.43  211.20  257.86  208.22  40.67   \n",
    "Wall time: 30min 33s"
   ]
  },
  {
   "cell_type": "code",
   "execution_count": 13,
   "metadata": {},
   "outputs": [
    {
     "name": "stdout",
     "output_type": "stream",
     "text": [
      "Evaluating RMSE, MAE of algorithm SVD on 5 split(s).\n",
      "\n",
      "                  Fold 1  Fold 2  Fold 3  Fold 4  Fold 5  Mean    Std     \n",
      "RMSE (testset)    0.8358  0.8339  0.8313  0.8326  0.8341  0.8335  0.0015  \n",
      "MAE (testset)     0.6391  0.6381  0.6360  0.6376  0.6379  0.6377  0.0010  \n",
      "Fit time          62.83   58.04   61.50   57.72   58.32   59.68   2.08    \n",
      "Test time         4.85    2.69    2.65    2.93    2.96    3.22    0.83    \n",
      "Wall time: 5min 27s\n"
     ]
    }
   ],
   "source": [
    "%%time\n",
    "svdCrossvalidation()"
   ]
  },
  {
   "cell_type": "raw",
   "metadata": {},
   "source": [
    "Evaluating RMSE, MAE of algorithm SVD on 5 split(s).\n",
    "\n",
    "                  Fold 1  Fold 2  Fold 3  Fold 4  Fold 5  Mean    Std     \n",
    "RMSE (testset)    0.8358  0.8339  0.8313  0.8326  0.8341  0.8335  0.0015  \n",
    "MAE (testset)     0.6391  0.6381  0.6360  0.6376  0.6379  0.6377  0.0010  \n",
    "Fit time          62.83   58.04   61.50   57.72   58.32   59.68   2.08    \n",
    "Test time         4.85    2.69    2.65    2.93    2.96    3.22    0.83    \n",
    "Wall time: 5min 27s "
   ]
  }
 ],
 "metadata": {
  "kernelspec": {
   "display_name": "Python 3",
   "language": "python",
   "name": "python3"
  },
  "language_info": {
   "codemirror_mode": {
    "name": "ipython",
    "version": 3
   },
   "file_extension": ".py",
   "mimetype": "text/x-python",
   "name": "python",
   "nbconvert_exporter": "python",
   "pygments_lexer": "ipython3",
   "version": "3.7.0"
  }
 },
 "nbformat": 4,
 "nbformat_minor": 4
}
